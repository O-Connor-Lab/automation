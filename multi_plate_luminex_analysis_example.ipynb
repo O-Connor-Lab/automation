{
  "cells": [
    {
      "cell_type": "markdown",
      "metadata": {
        "id": "view-in-github",
        "colab_type": "text"
      },
      "source": [
        "<a href=\"https://colab.research.google.com/github/O-Connor-Lab/automation/blob/main/multi_plate_luminex_analysis_example.ipynb\" target=\"_parent\"><img src=\"https://colab.research.google.com/assets/colab-badge.svg\" alt=\"Open In Colab\"/></a>"
      ]
    },
    {
      "cell_type": "markdown",
      "id": "c08d45b8-18bd-4467-8a06-8df2d7c08c35",
      "metadata": {
        "id": "c08d45b8-18bd-4467-8a06-8df2d7c08c35"
      },
      "source": [
        "# Luminex Automation (Multi plate)\n",
        "\n",
        "# Import Packages"
      ]
    },
    {
      "cell_type": "code",
      "execution_count": null,
      "id": "c0e7c0ea-7b85-4e48-bbf3-7fd3afbff3a4",
      "metadata": {
        "colab": {
          "base_uri": "https://localhost:8080/"
        },
        "id": "c0e7c0ea-7b85-4e48-bbf3-7fd3afbff3a4",
        "outputId": "02a9de8e-76d9-46ef-bb05-f5af32779f7b"
      },
      "outputs": [
        {
          "output_type": "stream",
          "name": "stdout",
          "text": [
            "/content\n"
          ]
        }
      ],
      "source": [
        "# for importing needed packages\n",
        "import pandas as pd\n",
        "import numpy as np\n",
        "import warnings\n",
        "warnings.filterwarnings('ignore')\n",
        "import matplotlib.pyplot as plt\n",
        "from matplotlib.backends.backend_pdf import PdfPages\n",
        "import seaborn as sns\n",
        "%cd '/content'"
      ]
    },
    {
      "cell_type": "markdown",
      "source": [
        "#Load in Data\n",
        "Indicate the number of plates you have for the assay in the numPlates variable."
      ],
      "metadata": {
        "id": "EFY1G6wRJ3WY"
      },
      "id": "EFY1G6wRJ3WY"
    },
    {
      "cell_type": "code",
      "execution_count": null,
      "id": "3889edb0-c5a9-4850-a0b5-c154838ffff5",
      "metadata": {
        "id": "3889edb0-c5a9-4850-a0b5-c154838ffff5"
      },
      "outputs": [],
      "source": [
        "numPlates = 3\n",
        "\n",
        "# Setting up varriables\n",
        "data_file_path_1 = '06.15.21 K012 SIV-ZIKV Plasma Plate1.xlsx'\n",
        "data_file_path_2 = '06.15.21 K012 SIV-ZIKV Plasma Plate2.xlsx'\n",
        "data_file_path_3 = '06.23.21 K01 Plasma Plate 3.xlsx'\n",
        "\n",
        "#If you have more than three plates, copy the below format and make more plate variables:\n",
        "#data_file_path_x = ''\n",
        "\n",
        "metadata_file_path = 'luminex plate maps Plasma and CSF.xlsx'"
      ]
    },
    {
      "cell_type": "markdown",
      "source": [
        "Record the number of samples on each plate in these variables with the numbers corresponding to the order you uploaded them in"
      ],
      "metadata": {
        "id": "aiLs2GJSMWtF"
      },
      "id": "aiLs2GJSMWtF"
    },
    {
      "cell_type": "code",
      "execution_count": null,
      "id": "19e1f6d3-9972-4832-a958-b5745ebcb932",
      "metadata": {
        "id": "19e1f6d3-9972-4832-a958-b5745ebcb932"
      },
      "outputs": [],
      "source": [
        "SampleNum1 = 40\n",
        "SampleNum2 = 40\n",
        "SampleNum3 =  24\n",
        "#If you have more than three plates, create more variables in the same format:\n",
        "#SampleNumX =\n",
        "\n",
        "# Import raw data seperated into individual spreadsheets for each analytes\n",
        "raw_data_plate_1 = pd.read_excel(data_file_path_1, sheet_name = None, header = 10, usecols = 'A:L', nrows = SampleNum1 + 9)\n",
        "raw_data_plate_2 = pd.read_excel(data_file_path_2, sheet_name = None, header = 10, usecols = 'A:L', nrows = SampleNum2 + 9)\n",
        "raw_data_plate_3 = pd.read_excel(data_file_path_3, sheet_name = None, header = 10, usecols = 'A:L', nrows = SampleNum3 + 9)\n",
        "\n",
        "#If you have more than three plates, copy the below format and make more plate variables:\n",
        "#raw_data_plate_x = pd.read_excel(data_file_path_X, sheet_name = None, header = 10, usecols = 'A:L', nrows = SampleNumX + 9)\n",
        "\n",
        "#If you have more than three plates, input another term into the dictionary betwee the brackets below with the template\n",
        "#\"Plate X\": raw_data_plate_X\n",
        "raw_data = {\"Plate 1\": raw_data_plate_1, \"Plate 2\": raw_data_plate_2, \"Plate 3\": raw_data_plate_3}\n",
        "\n",
        "# Import metadata with sample numbers corresponding to raw data\n",
        "metadata = pd.read_excel(metadata_file_path, header = 0, usecols = 'A:E')\n",
        "\n",
        "# Analytes\n",
        "analytes = raw_data_plate_1.keys()"
      ]
    },
    {
      "cell_type": "markdown",
      "source": [
        "#Functions"
      ],
      "metadata": {
        "id": "pl-apxTnM9St"
      },
      "id": "pl-apxTnM9St"
    },
    {
      "cell_type": "code",
      "execution_count": null,
      "id": "9c22e5f1-5cfa-4c5f-a229-22632d5afa44",
      "metadata": {
        "id": "9c22e5f1-5cfa-4c5f-a229-22632d5afa44"
      },
      "outputs": [],
      "source": [
        "# Function to input the upper and lower limits of the assay into values above or below the limit of detection\n",
        "# @para:\n",
        "    #conc - the observed concentration\n",
        "    #range_value - the designation if it is above or below the limit of detection\n",
        "    #limitsOfDetection - list of the limits of detection for each analyte\n",
        "    #key - analyte of intrest\n",
        "# returns a concentration value\n",
        "def replace_limits(conc, range_value, limitsOfDetection, key):\n",
        "    if range_value == \"OOR <\":\n",
        "        return limitsofDetection['lower kit'][key]\n",
        "    elif range_value == \"OOR >\":\n",
        "        return limitsofDetection['upper kit'][key]\n",
        "    else:\n",
        "        return conc\n",
        "\n",
        "#Change limit of detection decider"
      ]
    },
    {
      "cell_type": "code",
      "execution_count": null,
      "id": "dd81ec72-e569-4405-beb4-4dcd850e456e",
      "metadata": {
        "id": "dd81ec72-e569-4405-beb4-4dcd850e456e"
      },
      "outputs": [],
      "source": [
        "def extract_limits(key):\n",
        "    upperLimitsOfDetection = [key]\n",
        "    lowerLimitsOfDetection = [key]\n",
        "    for plate in raw_data.keys():\n",
        "\n",
        "        standards = raw_data[plate][key][\"Conc in Range\"][1:8].dropna() #selects out the standard values from spreadsheet\n",
        "\n",
        "        standards2 = [num for num in standards if isinstance(num,(float))] #selects the standard values that are in the detectable range of the assay\n",
        "\n",
        "        upperLimitsOfDetection.append(max(standards2)) #Adds it to the limitsOfDetection list\n",
        "\n",
        "        lowerLimitsOfDetection.append(min(standards2))\n",
        "\n",
        "    upper.append(upperLimitsOfDetection)\n",
        "    lower.append(lowerLimitsOfDetection)"
      ]
    },
    {
      "cell_type": "code",
      "execution_count": null,
      "id": "ead9c65a-e2c4-4a04-93ed-4d54c94ac532",
      "metadata": {
        "id": "ead9c65a-e2c4-4a04-93ed-4d54c94ac532"
      },
      "outputs": [],
      "source": [
        "# Function to QC a certain analyte of intrest\n",
        "def QC_analyte(plate):\n",
        "    plates = []\n",
        "    for key in raw_data_plate_1.keys():\n",
        "\n",
        "        numSamples = len(raw_data[plate][key]) - 8\n",
        "\n",
        "        #Totals the number of OOR < and OOR > in Obs Conc\n",
        "        ObsConcCounts = raw_data[plate][key].iloc[8:][\"Obs Conc\"].value_counts().reindex(['OOR <', 'OOR >'], fill_value=0)\n",
        "        #Totals the number of OOR < and OOR > in Conc in Range\n",
        "        ConcInRangeCounts = raw_data[plate][key].iloc[8:][\"Conc in Range\"].value_counts().reindex(['OOR <', 'OOR >'], fill_value=0)\n",
        "        #Determines how many of the Obs Conc values are actually within the LOD\n",
        "        ObsConcRealNum = sum(isinstance(x, str) for x in raw_data[plate][key].iloc[8:][\"Obs Conc\"])\n",
        "\n",
        "\n",
        "        # If 95% of the observed concentration are above or below the LOD, they are determined to be unusable analytes\n",
        "        if ObsConcCounts[0]/numSamples > 0.95 or ObsConcCounts[1]/numSamples > 0.95:\n",
        "            plates.append([key, \"red\"])\n",
        "        # If 80% of the concentrations are in range, meaning they are a starred or unstarred value, they are usable\n",
        "        elif ConcInRangeCounts[0]/numSamples < 0.80 and ConcInRangeCounts[1]/numSamples < 0.80:\n",
        "            plates.append([key, \"green\"])\n",
        "        # If at least one value in the observed concentration is a unstarred value, it is potentially usable\n",
        "        elif ObsConcRealNum/numSamples < 0.9:\n",
        "            plates.append([key, \"yellow\"])\n",
        "        # Everything else is put in the category of slightly un-usable\n",
        "        else:\n",
        "            plates.append([key, \"orange\"])\n",
        "    return plates"
      ]
    },
    {
      "cell_type": "code",
      "execution_count": null,
      "id": "00878574-3046-4cc5-a68d-08007e7bd40a",
      "metadata": {
        "id": "00878574-3046-4cc5-a68d-08007e7bd40a"
      },
      "outputs": [],
      "source": [
        "def sort_data(raw_data):\n",
        "    sortedData = pd.DataFrame()\n",
        "    for plate in raw_data.keys():\n",
        "        plates_metadata = metadata[metadata['Plate'] == plate]\n",
        "        for key in raw_data[plate].keys():\n",
        "            plates_metadata.insert(len(metadata.columns), key, raw_data[plate][key][\"Obs Conc\"][8:].tolist())\n",
        "        sortedData = pd.concat([sortedData, plates_metadata], axis = 0)\n",
        "    return sortedData\n"
      ]
    },
    {
      "cell_type": "markdown",
      "source": [
        "#Extracts Limit of Detection"
      ],
      "metadata": {
        "id": "X9aB5KqGN2rC"
      },
      "id": "X9aB5KqGN2rC"
    },
    {
      "cell_type": "code",
      "execution_count": null,
      "id": "ff73d821-453d-40c8-8ec9-017c69770ca9",
      "metadata": {
        "id": "ff73d821-453d-40c8-8ec9-017c69770ca9"
      },
      "outputs": [],
      "source": [
        "upper = []\n",
        "lower = []\n",
        "upper_labels = ['key']\n",
        "lower_labels = ['key']\n",
        "\n",
        "for key in raw_data.keys():\n",
        "  upper_labels.append(key + ' upper')\n",
        "  lower_labels.append(key + ' lower')\n",
        "\n",
        "for key in raw_data_plate_1.keys():\n",
        "    extract_limits(key)\n",
        "\n",
        "upperLimitsOfDetection = pd.DataFrame(upper, columns = upper_labels) #Makes a dataframe for the limits of detection\n",
        "lowerLimitsOfDetection = pd.DataFrame(lower, columns = lower_labels)"
      ]
    },
    {
      "cell_type": "markdown",
      "source": [
        "#Uploads Kit's Limit of Detection\n",
        "If you are uninterested in this then you can skip this code block. The sheet needs to have the columns named key, upper kit and lower kit"
      ],
      "metadata": {
        "id": "AF5TQyPQN68_"
      },
      "id": "AF5TQyPQN68_"
    },
    {
      "cell_type": "code",
      "source": [
        "kitLOD = \"kitLimitofDetection.xlsx\" #Replace with name of limit of detection file\n",
        "\n",
        "kitLimitofDetection = pd.read_excel(kitLOD, sheet_name=0, header = 0, index_col = 0)\n",
        "kitUpper = kitLimitofDetection.drop('lower kit', axis = 1)\n",
        "kitLower = kitLimitofDetection.drop('upper kit', axis = 1)\n",
        "\n",
        "upperLimitsOfDetection = pd.merge(upperLimitsOfDetection, kitLimitofDetection.drop('lower kit', axis = 1), on='key', how='right')\n",
        "upperLimitsOfDetection = upperLimitsOfDetection.set_index(keys = 'key')\n",
        "lowerLimitsOfDetection = pd.merge(lowerLimitsOfDetection, kitLimitofDetection.drop('upper kit', axis = 1), on='key', how='right')\n",
        "lowerLimitsOfDetection = lowerLimitsOfDetection.set_index(keys = 'key')"
      ],
      "metadata": {
        "id": "NaO30Ma5NwVz"
      },
      "id": "NaO30Ma5NwVz",
      "execution_count": null,
      "outputs": []
    },
    {
      "cell_type": "markdown",
      "source": [
        "#Calculates %CV of Limits"
      ],
      "metadata": {
        "id": "oPeW2U_dOoM9"
      },
      "id": "oPeW2U_dOoM9"
    },
    {
      "cell_type": "code",
      "source": [
        "cv =  lambda x: np.std(x) / np.mean(x)\n",
        "lowerLimitsOfDetection.insert(loc = 0, column = 'lower limit %CV', value = lowerLimitsOfDetection.apply(cv, axis=1))\n",
        "\n",
        "upperLimitsOfDetection.insert(loc = 0, column = 'upper limit %CV', value = upperLimitsOfDetection.apply(cv, axis=1))\n",
        "\n",
        "limitsofDetection = pd.concat([lowerLimitsOfDetection, upperLimitsOfDetection], axis = 1)\n",
        "limitsofDetection.to_excel(\"limits_of_detection.xlsx\")"
      ],
      "metadata": {
        "id": "Z4RQ-CRANyZu"
      },
      "id": "Z4RQ-CRANyZu",
      "execution_count": null,
      "outputs": []
    },
    {
      "cell_type": "code",
      "execution_count": null,
      "id": "423a715e-ed0c-4648-b6f2-15028ae3c75f",
      "metadata": {
        "id": "423a715e-ed0c-4648-b6f2-15028ae3c75f"
      },
      "outputs": [],
      "source": [
        "metrics = pd.concat([lowerLimitsOfDetection['lower limit %CV'], upperLimitsOfDetection['upper limit %CV']], axis = 1)"
      ]
    },
    {
      "cell_type": "markdown",
      "source": [
        "#QC Analytes"
      ],
      "metadata": {
        "id": "HVAeWSmHO73U"
      },
      "id": "HVAeWSmHO73U"
    },
    {
      "cell_type": "code",
      "execution_count": null,
      "id": "9a2b74ff-7e59-429d-8db6-df3abf15910d",
      "metadata": {
        "id": "9a2b74ff-7e59-429d-8db6-df3abf15910d"
      },
      "outputs": [],
      "source": [
        "for plate in raw_data.keys():\n",
        "    finished_list = pd.DataFrame(QC_analyte(plate), columns = ['key', plate])\n",
        "    metrics = pd.merge(metrics, finished_list, on='key')\n",
        "metrics.to_excel(\"QC_metrics.xlsx\")"
      ]
    },
    {
      "cell_type": "markdown",
      "source": [
        "#Sort Raw Data"
      ],
      "metadata": {
        "id": "3QRuv5beO_z3"
      },
      "id": "3QRuv5beO_z3"
    },
    {
      "cell_type": "code",
      "execution_count": null,
      "id": "c3e6ce05-1da8-4496-9845-e0816a634c62",
      "metadata": {
        "id": "c3e6ce05-1da8-4496-9845-e0816a634c62"
      },
      "outputs": [],
      "source": [
        "sortedRawData = sort_data(raw_data)\n",
        "sortedRawData.to_excel(\"sorted_raw_data.xlsx\")"
      ]
    },
    {
      "cell_type": "markdown",
      "id": "cdc3d252-9566-4e91-a5d0-1ad0233b05ed",
      "metadata": {
        "id": "cdc3d252-9566-4e91-a5d0-1ad0233b05ed"
      },
      "source": [
        "# Checkpoint!\n",
        "Look at outputs\n",
        "\n",
        "limits_of_detection -> shows the upper and lower limit of detection for all plates, the kit standards and the CV\n",
        "\n",
        "QC_metrics.xlsx -> shows QC metrics used to determine if a analyte has useable standards and enough values to interpret results\n",
        "\n",
        "sorted_raw_data.xlsx -> shows the raw data connected to metadata values assocaited with that sample\n",
        "\n",
        "Feel free to stop here and input data into prism\n",
        "\n",
        "# Clean Data and Replace With Limit of Detection\n"
      ]
    },
    {
      "cell_type": "code",
      "execution_count": null,
      "id": "9df7430b-6ba7-42b5-b7fe-8f2235c43fd6",
      "metadata": {
        "id": "9df7430b-6ba7-42b5-b7fe-8f2235c43fd6"
      },
      "outputs": [],
      "source": [
        "cleanedData = raw_data.copy()\n",
        "\n",
        "for plate in cleanedData.keys():\n",
        "    for key in analytes:\n",
        "        cleanedData[plate][key][\"Obs Conc\"] = cleanedData[plate][key].apply(\n",
        "            lambda row: replace_limits(row[\"Obs Conc\"], row[\"Conc in Range\"], limitsofDetection, key), axis=1\n",
        "        )\n",
        "\n",
        "cleanedData = sort_data(cleanedData)\n",
        "cleanedData.to_excel(\"cleaned_data.xlsx\")"
      ]
    },
    {
      "cell_type": "markdown",
      "source": [
        "#Generate Line Graphs for Each Animal"
      ],
      "metadata": {
        "id": "D1cpPdnTSKsM"
      },
      "id": "D1cpPdnTSKsM"
    },
    {
      "cell_type": "code",
      "source": [
        "Timepoint = 'Timepoint' #Column for timepoint\n",
        "SampleID = 'Animal IDS' #Column for animal ID"
      ],
      "metadata": {
        "id": "BnOMKSjtSO2F"
      },
      "id": "BnOMKSjtSO2F",
      "execution_count": null,
      "outputs": []
    },
    {
      "cell_type": "code",
      "execution_count": null,
      "id": "62999794-ce78-4084-a4d9-8c8ef5278c76",
      "metadata": {
        "colab": {
          "base_uri": "https://localhost:8080/",
          "height": 35
        },
        "id": "62999794-ce78-4084-a4d9-8c8ef5278c76",
        "outputId": "bce624d1-e301-48f0-c7e2-676efc424675"
      },
      "outputs": [
        {
          "output_type": "display_data",
          "data": {
            "text/plain": [
              "<Figure size 640x480 with 0 Axes>"
            ]
          },
          "metadata": {}
        }
      ],
      "source": [
        "with PdfPages('line_graphs_per_animal.pdf') as pdf:\n",
        "    for key in analytes:\n",
        "        for ID in cleanedData[SampleID].unique():\n",
        "            data = pd.DataFrame(cleanedData[[SampleID, Timepoint, key]].loc[cleanedData[SampleID] == ID])\n",
        "            plt.plot(data[Timepoint], data[key], marker='o')\n",
        "\n",
        "        ax = plt.gca()\n",
        "        ax.set_aspect(1.0/ax.get_data_ratio(), adjustable='box')\n",
        "        plt.rcParams['axes.spines.right'] = False\n",
        "        plt.rcParams['axes.spines.top'] = False\n",
        "        plt.legend(cleanedData[SampleID].unique(), bbox_to_anchor=(1.05, 1), loc='upper left')\n",
        "        plt.title(key)\n",
        "        plt.xticks(rotation=45, ha='right')\n",
        "        #plt.axhline(y = limitsOfDetection.loc[key].iloc[1], color = 'grey', linestyle = 'dashed')\n",
        "        pdf.savefig()  # Save the current figure to the PDF\n",
        "        plt.close()  # Close the figure to avoid memory issues\n",
        "\n",
        "    key = plt.figure()"
      ]
    },
    {
      "cell_type": "markdown",
      "source": [
        "#Generate Line Graph Per Group\n"
      ],
      "metadata": {
        "id": "fpLpzLzAVmnz"
      },
      "id": "fpLpzLzAVmnz"
    },
    {
      "cell_type": "markdown",
      "source": [],
      "metadata": {
        "id": "NiZ_dorxYAWi"
      },
      "id": "NiZ_dorxYAWi"
    },
    {
      "cell_type": "code",
      "source": [
        "grouped_data = cleanedData.groupby(by = ['Group', Timepoint])[list(analytes)].mean()\n",
        "#with PdfPages('line_graphs_per_group.pdf') as pdf:\n",
        "for key in analytes:\n",
        "  for label, df in cleanedData.groupby('Group'):\n",
        "    data = grouped_data[grouped_data['Group'] == label]\n",
        "        #plt.plot(data[Timepoint], data[key], marker='o')\n"
      ],
      "metadata": {
        "colab": {
          "base_uri": "https://localhost:8080/",
          "height": 561
        },
        "id": "zfZarL99VS_D",
        "outputId": "64c308d2-519a-4356-f950-3f3fcf6ea2fa"
      },
      "id": "zfZarL99VS_D",
      "execution_count": null,
      "outputs": [
        {
          "output_type": "error",
          "ename": "KeyError",
          "evalue": "'Group'",
          "traceback": [
            "\u001b[0;31m---------------------------------------------------------------------------\u001b[0m",
            "\u001b[0;31mKeyError\u001b[0m                                  Traceback (most recent call last)",
            "\u001b[0;32m/usr/local/lib/python3.11/dist-packages/pandas/core/indexes/base.py\u001b[0m in \u001b[0;36mget_loc\u001b[0;34m(self, key)\u001b[0m\n\u001b[1;32m   3804\u001b[0m         \u001b[0;32mtry\u001b[0m\u001b[0;34m:\u001b[0m\u001b[0;34m\u001b[0m\u001b[0;34m\u001b[0m\u001b[0m\n\u001b[0;32m-> 3805\u001b[0;31m             \u001b[0;32mreturn\u001b[0m \u001b[0mself\u001b[0m\u001b[0;34m.\u001b[0m\u001b[0m_engine\u001b[0m\u001b[0;34m.\u001b[0m\u001b[0mget_loc\u001b[0m\u001b[0;34m(\u001b[0m\u001b[0mcasted_key\u001b[0m\u001b[0;34m)\u001b[0m\u001b[0;34m\u001b[0m\u001b[0;34m\u001b[0m\u001b[0m\n\u001b[0m\u001b[1;32m   3806\u001b[0m         \u001b[0;32mexcept\u001b[0m \u001b[0mKeyError\u001b[0m \u001b[0;32mas\u001b[0m \u001b[0merr\u001b[0m\u001b[0;34m:\u001b[0m\u001b[0;34m\u001b[0m\u001b[0;34m\u001b[0m\u001b[0m\n",
            "\u001b[0;32mindex.pyx\u001b[0m in \u001b[0;36mpandas._libs.index.IndexEngine.get_loc\u001b[0;34m()\u001b[0m\n",
            "\u001b[0;32mindex.pyx\u001b[0m in \u001b[0;36mpandas._libs.index.IndexEngine.get_loc\u001b[0;34m()\u001b[0m\n",
            "\u001b[0;32mpandas/_libs/hashtable_class_helper.pxi\u001b[0m in \u001b[0;36mpandas._libs.hashtable.PyObjectHashTable.get_item\u001b[0;34m()\u001b[0m\n",
            "\u001b[0;32mpandas/_libs/hashtable_class_helper.pxi\u001b[0m in \u001b[0;36mpandas._libs.hashtable.PyObjectHashTable.get_item\u001b[0;34m()\u001b[0m\n",
            "\u001b[0;31mKeyError\u001b[0m: 'Group'",
            "\nThe above exception was the direct cause of the following exception:\n",
            "\u001b[0;31mKeyError\u001b[0m                                  Traceback (most recent call last)",
            "\u001b[0;32m<ipython-input-125-f8348cfe8600>\u001b[0m in \u001b[0;36m<cell line: 0>\u001b[0;34m()\u001b[0m\n\u001b[1;32m      3\u001b[0m \u001b[0;32mfor\u001b[0m \u001b[0mkey\u001b[0m \u001b[0;32min\u001b[0m \u001b[0manalytes\u001b[0m\u001b[0;34m:\u001b[0m\u001b[0;34m\u001b[0m\u001b[0;34m\u001b[0m\u001b[0m\n\u001b[1;32m      4\u001b[0m   \u001b[0;32mfor\u001b[0m \u001b[0mlabel\u001b[0m\u001b[0;34m,\u001b[0m \u001b[0mdf\u001b[0m \u001b[0;32min\u001b[0m \u001b[0mcleanedData\u001b[0m\u001b[0;34m.\u001b[0m\u001b[0mgroupby\u001b[0m\u001b[0;34m(\u001b[0m\u001b[0;34m'Group'\u001b[0m\u001b[0;34m)\u001b[0m\u001b[0;34m:\u001b[0m\u001b[0;34m\u001b[0m\u001b[0;34m\u001b[0m\u001b[0m\n\u001b[0;32m----> 5\u001b[0;31m     \u001b[0mdata\u001b[0m \u001b[0;34m=\u001b[0m \u001b[0mgrouped_data\u001b[0m\u001b[0;34m[\u001b[0m\u001b[0mgrouped_data\u001b[0m\u001b[0;34m[\u001b[0m\u001b[0;34m'Group'\u001b[0m\u001b[0;34m]\u001b[0m \u001b[0;34m==\u001b[0m \u001b[0mlabel\u001b[0m\u001b[0;34m]\u001b[0m\u001b[0;34m\u001b[0m\u001b[0;34m\u001b[0m\u001b[0m\n\u001b[0m\u001b[1;32m      6\u001b[0m         \u001b[0;31m#plt.plot(data[Timepoint], data[key], marker='o')\u001b[0m\u001b[0;34m\u001b[0m\u001b[0;34m\u001b[0m\u001b[0m\n\u001b[1;32m      7\u001b[0m \u001b[0;34m\u001b[0m\u001b[0m\n",
            "\u001b[0;32m/usr/local/lib/python3.11/dist-packages/pandas/core/frame.py\u001b[0m in \u001b[0;36m__getitem__\u001b[0;34m(self, key)\u001b[0m\n\u001b[1;32m   4100\u001b[0m             \u001b[0;32mif\u001b[0m \u001b[0mself\u001b[0m\u001b[0;34m.\u001b[0m\u001b[0mcolumns\u001b[0m\u001b[0;34m.\u001b[0m\u001b[0mnlevels\u001b[0m \u001b[0;34m>\u001b[0m \u001b[0;36m1\u001b[0m\u001b[0;34m:\u001b[0m\u001b[0;34m\u001b[0m\u001b[0;34m\u001b[0m\u001b[0m\n\u001b[1;32m   4101\u001b[0m                 \u001b[0;32mreturn\u001b[0m \u001b[0mself\u001b[0m\u001b[0;34m.\u001b[0m\u001b[0m_getitem_multilevel\u001b[0m\u001b[0;34m(\u001b[0m\u001b[0mkey\u001b[0m\u001b[0;34m)\u001b[0m\u001b[0;34m\u001b[0m\u001b[0;34m\u001b[0m\u001b[0m\n\u001b[0;32m-> 4102\u001b[0;31m             \u001b[0mindexer\u001b[0m \u001b[0;34m=\u001b[0m \u001b[0mself\u001b[0m\u001b[0;34m.\u001b[0m\u001b[0mcolumns\u001b[0m\u001b[0;34m.\u001b[0m\u001b[0mget_loc\u001b[0m\u001b[0;34m(\u001b[0m\u001b[0mkey\u001b[0m\u001b[0;34m)\u001b[0m\u001b[0;34m\u001b[0m\u001b[0;34m\u001b[0m\u001b[0m\n\u001b[0m\u001b[1;32m   4103\u001b[0m             \u001b[0;32mif\u001b[0m \u001b[0mis_integer\u001b[0m\u001b[0;34m(\u001b[0m\u001b[0mindexer\u001b[0m\u001b[0;34m)\u001b[0m\u001b[0;34m:\u001b[0m\u001b[0;34m\u001b[0m\u001b[0;34m\u001b[0m\u001b[0m\n\u001b[1;32m   4104\u001b[0m                 \u001b[0mindexer\u001b[0m \u001b[0;34m=\u001b[0m \u001b[0;34m[\u001b[0m\u001b[0mindexer\u001b[0m\u001b[0;34m]\u001b[0m\u001b[0;34m\u001b[0m\u001b[0;34m\u001b[0m\u001b[0m\n",
            "\u001b[0;32m/usr/local/lib/python3.11/dist-packages/pandas/core/indexes/base.py\u001b[0m in \u001b[0;36mget_loc\u001b[0;34m(self, key)\u001b[0m\n\u001b[1;32m   3810\u001b[0m             ):\n\u001b[1;32m   3811\u001b[0m                 \u001b[0;32mraise\u001b[0m \u001b[0mInvalidIndexError\u001b[0m\u001b[0;34m(\u001b[0m\u001b[0mkey\u001b[0m\u001b[0;34m)\u001b[0m\u001b[0;34m\u001b[0m\u001b[0;34m\u001b[0m\u001b[0m\n\u001b[0;32m-> 3812\u001b[0;31m             \u001b[0;32mraise\u001b[0m \u001b[0mKeyError\u001b[0m\u001b[0;34m(\u001b[0m\u001b[0mkey\u001b[0m\u001b[0;34m)\u001b[0m \u001b[0;32mfrom\u001b[0m \u001b[0merr\u001b[0m\u001b[0;34m\u001b[0m\u001b[0;34m\u001b[0m\u001b[0m\n\u001b[0m\u001b[1;32m   3813\u001b[0m         \u001b[0;32mexcept\u001b[0m \u001b[0mTypeError\u001b[0m\u001b[0;34m:\u001b[0m\u001b[0;34m\u001b[0m\u001b[0;34m\u001b[0m\u001b[0m\n\u001b[1;32m   3814\u001b[0m             \u001b[0;31m# If we have a listlike key, _check_indexing_error will raise\u001b[0m\u001b[0;34m\u001b[0m\u001b[0;34m\u001b[0m\u001b[0m\n",
            "\u001b[0;31mKeyError\u001b[0m: 'Group'"
          ]
        }
      ]
    },
    {
      "cell_type": "code",
      "source": [
        " ax = plt.gca()\n",
        "      ax.set_aspect(1.0/ax.get_data_ratio(), adjustable='box')\n",
        "      plt.rcParams['axes.spines.right'] = False\n",
        "      plt.rcParams['axes.spines.top'] = False\n",
        "      plt.legend(cleanedData[SampleID].unique(), bbox_to_anchor=(1.05, 1), loc='upper left')\n",
        "      plt.title(key)\n",
        "      plt.xticks(rotation=45, ha='right')\n",
        "      #plt.axhline(y = limitsOfDetection.loc[key].iloc[1], color = 'grey', linestyle = 'dashed')\n",
        "      pdf.savefig()  # Save the current figure to the PDF\n",
        "      plt.close()  # Close the figure to avoid memory issues\n",
        "\n",
        "    key = plt.figure()\n"
      ],
      "metadata": {
        "id": "4T0wK0-3ZY9J"
      },
      "id": "4T0wK0-3ZY9J",
      "execution_count": null,
      "outputs": []
    },
    {
      "cell_type": "code",
      "source": [
        "grouped_data['TNF-alpha (45)'].plot(legend=True)\n",
        "plt.show()"
      ],
      "metadata": {
        "colab": {
          "base_uri": "https://localhost:8080/",
          "height": 449
        },
        "id": "9QalUesdaf3Z",
        "outputId": "632d8fdd-7f4a-4ec6-dbec-375479870098"
      },
      "id": "9QalUesdaf3Z",
      "execution_count": null,
      "outputs": [
        {
          "output_type": "display_data",
          "data": {
            "text/plain": [
              "<Figure size 640x480 with 1 Axes>"
            ],
            "image/png": "[encoded data removed]"
          },
          "metadata": {}
        }
      ]
    },
    {
      "cell_type": "code",
      "source": [],
      "metadata": {
        "id": "AlhJHTNnak3S"
      },
      "id": "AlhJHTNnak3S",
      "execution_count": null,
      "outputs": []
    }
  ],
  "metadata": {
    "kernelspec": {
      "display_name": "Python [conda env:base] *",
      "language": "python",
      "name": "conda-base-py"
    },
    "language_info": {
      "codemirror_mode": {
        "name": "ipython",
        "version": 3
      },
      "file_extension": ".py",
      "mimetype": "text/x-python",
      "name": "python",
      "nbconvert_exporter": "python",
      "pygments_lexer": "ipython3",
      "version": "3.12.7"
    },
    "colab": {
      "provenance": [],
      "include_colab_link": true
    }
  },
  "nbformat": 4,
  "nbformat_minor": 5
}